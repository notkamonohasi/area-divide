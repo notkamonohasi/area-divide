{
 "cells": [
  {
   "cell_type": "code",
   "execution_count": 2,
   "metadata": {},
   "outputs": [
    {
     "data": {
      "image/png": "[encoded data removed]",
      "text/plain": [
       "<Figure size 640x480 with 1 Axes>"
      ]
     },
     "metadata": {},
     "output_type": "display_data"
    }
   ],
   "source": [
    "import matplotlib.pyplot as plt\n",
    "import matplotlib.patches as patches\n",
    "from typing import List, Tuple\n",
    "\n",
    "def draw_squares(coordinates: List[Tuple[Tuple[float, float], Tuple[float, float]]]) -> None:\n",
    "    \"\"\"\n",
    "    左上と右下の座標のリストを受け取り、複数の正方形を描画する。\n",
    "    \n",
    "    Parameters:\n",
    "        coordinates (List[Tuple[Tuple[float, float], Tuple[float, float]]]): \n",
    "            各正方形の左上と右下の座標のリスト。\n",
    "    \"\"\"\n",
    "    fig, ax = plt.subplots()\n",
    "    \n",
    "    for top_left, bottom_right in coordinates:\n",
    "        # 幅と高さを計算\n",
    "        width = bottom_right[0] - top_left[0]\n",
    "        height = top_left[1] - bottom_right[1]\n",
    "        \n",
    "        # 正方形を描画\n",
    "        square = patches.Rectangle(top_left, width, -height, linewidth=1, edgecolor='r', facecolor='none')\n",
    "        ax.add_patch(square)\n",
    "    \n",
    "    # 軸の範囲を設定\n",
    "    all_x = [x for top_left, bottom_right in coordinates for x in [top_left[0], bottom_right[0]]]\n",
    "    all_y = [y for top_left, bottom_right in coordinates for y in [top_left[1], bottom_right[1]]]\n",
    "    ax.set_xlim(min(all_x) - 1, max(all_x) + 1)\n",
    "    ax.set_ylim(min(all_y) - 1, max(all_y) + 1)\n",
    "    ax.set_aspect('equal')  # アスペクト比を1:1に固定\n",
    "    \n",
    "    plt.show()\n",
    "\n",
    "# 複数の左上と右下の座標を指定して正方形を描画\n",
    "coordinates = [((2, 5), (6, 1)), ((8, 9), (12, 5)), ((1, 3), (4, 0))]\n",
    "draw_squares(coordinates)\n"
   ]
  }
 ],
 "metadata": {
  "kernelspec": {
   "display_name": ".venv",
   "language": "python",
   "name": "python3"
  },
  "language_info": {
   "codemirror_mode": {
    "name": "ipython",
    "version": 3
   },
   "file_extension": ".py",
   "mimetype": "text/x-python",
   "name": "python",
   "nbconvert_exporter": "python",
   "pygments_lexer": "ipython3",
   "version": "3.11.0"
  }
 },
 "nbformat": 4,
 "nbformat_minor": 2
}
